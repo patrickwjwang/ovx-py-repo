{
  "cells": [
    {
      "cell_type": "raw",
      "metadata": {},
      "source": [
        "---\n",
        "title: Bachelor Thesist Data\n",
        "author: Patrick Wang\n",
        "format:\n",
        "  html:\n",
        "    code-fold: true\n",
        "---"
      ],
      "id": "2fbdcda7"
    },
    {
      "cell_type": "markdown",
      "metadata": {},
      "source": [
        "# Data \n",
        "\n",
        "This paper investigates the influence of oil price volatility on Taiwan aggregate and individual stock returns from January 1, 2010, to December 31, 2021, because the Taiwan stock market’s market structure has become more stable since the 2008 financial crisis. In  the  empirical  analysis,  the  daily  data  are  used  because  the  OVX  index  is  a  way  to measure how volatile oil prices are in the short term. All the return data are denoted as daily return percentage.\n",
        "\n",
        "### Update working directroy and import packages\n"
      ],
      "id": "769c835c"
    },
    {
      "cell_type": "code",
      "metadata": {},
      "source": [
        "import pandas as pd\n",
        "import yfinance as yf\n",
        "import os\n",
        "import requests\n",
        "import csv\n",
        "from bs4 import BeautifulSoup as bs\n",
        "\n",
        "# Get the current working directory\n",
        "print(os.getcwd())\n",
        "os.chdir('/Users/patrickwang/Documents/ovx-py-repo/')\n",
        "print(os.getcwd())"
      ],
      "id": "e31443b8",
      "execution_count": null,
      "outputs": []
    },
    {
      "cell_type": "markdown",
      "metadata": {},
      "source": [
        "### Default settings\n"
      ],
      "id": "746ff317"
    },
    {
      "cell_type": "code",
      "metadata": {},
      "source": [
        "start_date = \"2010-01-01\"\n",
        "end_date = \"2021-12-31\"\n",
        "num_picks = 105"
      ],
      "id": "8b06adc3",
      "execution_count": null,
      "outputs": []
    },
    {
      "cell_type": "markdown",
      "metadata": {},
      "source": [
        "### This funciton download and clean yfinance price data\n"
      ],
      "id": "3b1af7d8"
    },
    {
      "cell_type": "code",
      "metadata": {},
      "source": [
        "def clean_price_data(ticker, start_date, end_date, download=False):\n",
        "    \"\"\"\n",
        "    Clean and process price data for a given ticker and date range.\n",
        "\n",
        "    Args:\n",
        "        ticker (str): Ticker symbol.\n",
        "        start_date (str): Start date in \"YYYY-MM-DD\" format.\n",
        "        end_date (str): End date in \"YYYY-MM-DD\" format.\n",
        "        download (bool, optional): Whether to download and save the data to CSV.\n",
        "\n",
        "    Returns:\n",
        "        pd.DataFrame: Processed price data.\n",
        "    \"\"\"\n",
        "    data_df = yf.download(ticker, start=start_date, end=end_date)\n",
        "    \n",
        "    # save the data to csv\n",
        "    if download == True:\n",
        "        cleaned_ticker = ''.join([char for char in ticker if char.isalnum()])\n",
        "        csv_filename = f\"data/{cleaned_ticker.lower()}_data.csv\"\n",
        "        data_df.to_csv(csv_filename)\n",
        "    else: None\n",
        "\n",
        "    # The difference betwen consecutive 'Close' data\n",
        "    data_df['diff']  = data_df['Close'].diff()\n",
        "    data_df['pct_return'] = data_df['Close'].pct_change() * 100\n",
        " \n",
        "    # Drop Open, High, Low, Adj Close, Volume\n",
        "    columns_to_drop = ['Open', 'High', 'Low', 'Adj Close', 'Volume']\n",
        "    data_df = data_df.drop(columns_to_drop, axis=1)\n",
        "    \n",
        "    return(data_df)"
      ],
      "id": "5edbdf1b",
      "execution_count": null,
      "outputs": []
    },
    {
      "cell_type": "markdown",
      "metadata": {},
      "source": [
        "### Clean OVX data\n"
      ],
      "id": "4ec58898"
    },
    {
      "cell_type": "code",
      "metadata": {},
      "source": [
        "ovx_df = clean_price_data('^OVX', start_date, end_date, download=True)\n",
        "\n",
        "# Create two columns contain positive and negative ovx change\n",
        "ovx_df['diff_pos'] = ovx_df['diff'][ovx_df['diff'] > 0]\n",
        "ovx_df['diff_neg'] = ovx_df['diff'][ovx_df['diff'] <= 0]\n",
        "\n",
        "# Fill positive and negative ovx change NaN with 0 for regression\n",
        "ovx_df['diff_pos'] = ovx_df['diff_pos'].fillna(0)\n",
        "ovx_df['diff_neg'] = ovx_df['diff_neg'].fillna(0)"
      ],
      "id": "5b7222f8",
      "execution_count": null,
      "outputs": []
    },
    {
      "cell_type": "markdown",
      "metadata": {},
      "source": [
        "### Clean ^TWII and USDTWD=X data\n"
      ],
      "id": "b0aac309"
    },
    {
      "cell_type": "code",
      "metadata": {},
      "source": [
        "twii_df = clean_price_data('^TWII', start_date, end_date)\n",
        "fx_df = clean_price_data('USDTWD=X', start_date, end_date)"
      ],
      "id": "04f95345",
      "execution_count": null,
      "outputs": []
    },
    {
      "cell_type": "markdown",
      "metadata": {},
      "source": [
        "### Find top 105 market cap symbols\n"
      ],
      "id": "aeb393eb"
    },
    {
      "cell_type": "code",
      "metadata": {},
      "source": [
        "# Extract ranked stock symbols from taifex website\n",
        "URL = \"https://www.taifex.com.tw/cht/9/futuresQADetail\"\n",
        "response = requests.get(URL)\n",
        "html = response.content\n",
        "\n",
        "# Create a BeautifulSoup object to parse the HTML\n",
        "soup = bs(html, 'html.parser')\n",
        "target_td_elements = soup.find_all('td', {'align': 'right', 'headers': 'name_a'})\n",
        "\n",
        "tickers, companies = [], []\n",
        "for idx, rows in enumerate(target_td_elements):\n",
        "    # alternate between ticker and company name\n",
        "    clean_text = ''.join([char for char in rows.text if char.isalnum()])\n",
        "    \n",
        "    # ticker start with 0\n",
        "    tickers.append(clean_text) if idx % 2 == 0 else companies.append(clean_text)\n",
        "    \n",
        "# Save the top 105 ticker symbols into csv file\n",
        "top_tickers = tickers[:num_picks]\n",
        "with open(\"data/top_ticker_symbols.csv\", \"w\", newline=\"\") as csvfile:\n",
        "    writer = csv.writer(csvfile)\n",
        "    writer.writerow([\"Ticker Symbol\"])\n",
        "    writer.writerows([[ticker] for ticker in top_tickers])"
      ],
      "id": "72b129e1",
      "execution_count": null,
      "outputs": []
    },
    {
      "cell_type": "markdown",
      "metadata": {},
      "source": [
        "### Get top 105 stock returns\n"
      ],
      "id": "b2121303"
    },
    {
      "cell_type": "code",
      "metadata": {},
      "source": [
        "# Create dataframe contain top 105 tickers (not optimized)\n",
        "filepath = 'data/top_ticker_symbols.csv'\n",
        "top_ticker_df = pd.read_csv(filepath)\n",
        "\n",
        "## Check: print(top_ticker_df.shape)\n",
        "\n",
        "individual_df = pd.DataFrame()\n",
        "for symbol in top_ticker_df['Ticker Symbol']:\n",
        "    symbol_txt = str(symbol) + '.TW'\n",
        "    individual_df[symbol] = clean_price_data(symbol_txt, start_date, end_date)['pct_return']"
      ],
      "id": "b1ed797a",
      "execution_count": null,
      "outputs": []
    }
  ],
  "metadata": {
    "kernelspec": {
      "name": "python3",
      "language": "python",
      "display_name": "Python 3 (ipykernel)"
    }
  },
  "nbformat": 4,
  "nbformat_minor": 5
}